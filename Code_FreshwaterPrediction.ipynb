{
 "cells": [
  {
   "cell_type": "code",
   "execution_count": 1,
   "id": "46dff9da",
   "metadata": {},
   "outputs": [
    {
     "name": "stderr",
     "output_type": "stream",
     "text": [
      "Intel(R) Extension for Scikit-learn* enabled (https://github.com/intel/scikit-learn-intelex)\n"
     ]
    }
   ],
   "source": [
    "import modin.pandas as pd\n",
    "from modin.config import Engine\n",
    "Engine.put(\"dask\") \n",
    "import os\n",
    "import daal4py as d4p\n",
    "from xgboost import XGBClassifier\n",
    "from lightgbm import LGBMClassifier\n",
    "from catboost import CatBoostClassifier\n",
    "import time\n",
    "import warnings\n",
    "import pandas\n",
    "import numpy as np\n",
    "import seaborn as sns\n",
    "import matplotlib.pyplot as plt\n",
    "%matplotlib inline\n",
    "from sklearnex import patch_sklearn\n",
    "patch_sklearn()\n",
    "from sklearn.model_selection import GridSearchCV,StratifiedKFold,train_test_split,cross_val_score\n",
    "from sklearn import metrics\n",
    "from sklearn.metrics import f1_score, accuracy_score\n",
    "from sklearn.svm import SVC\n",
    "from sklearn.preprocessing import StandardScaler\n",
    "from imblearn.over_sampling import SMOTE\n",
    "warnings.filterwarnings('ignore')\n",
    "import re\n",
    "import pickle"
   ]
  },
  {
   "cell_type": "code",
   "execution_count": 2,
   "id": "278c2332",
   "metadata": {},
   "outputs": [
    {
     "name": "stdout",
     "output_type": "stream",
     "text": [
      "10.765130043029785\n"
     ]
    }
   ],
   "source": [
    "# Importing the input dataset - Using pandas library modin package\n",
    "start = time.time()\n",
    "\n",
    "input_data=pd.read_csv('C:/Users/sidha/OneDrive/Desktop/Work/DS/HackerEarth/Intel/Data/datasetab75fb3/dataset.csv')\n",
    "\n",
    "end = time.time()\n",
    "print(end - start)"
   ]
  },
  {
   "cell_type": "code",
   "execution_count": 3,
   "id": "97e00b7d",
   "metadata": {},
   "outputs": [
    {
     "name": "stdout",
     "output_type": "stream",
     "text": [
      "29.29110860824585\n"
     ]
    }
   ],
   "source": [
    "# Importing the input dataset - Using standard pandas library (to see the time difference)\n",
    "start = time.time()\n",
    "\n",
    "test_df=pandas.read_csv('C:/Users/sidha/OneDrive/Desktop/Work/DS/HackerEarth/Intel/Data/datasetab75fb3/dataset.csv')\n",
    "\n",
    "end = time.time()\n",
    "print(end - start)\n",
    "del test_df"
   ]
  },
  {
   "cell_type": "code",
   "execution_count": null,
   "id": "98357699",
   "metadata": {},
   "outputs": [],
   "source": []
  },
  {
   "cell_type": "code",
   "execution_count": null,
   "id": "5b3d01a3",
   "metadata": {},
   "outputs": [],
   "source": []
  },
  {
   "cell_type": "markdown",
   "id": "6c8d15be",
   "metadata": {},
   "source": [
    "### User Defined Functions"
   ]
  },
  {
   "cell_type": "code",
   "execution_count": 4,
   "id": "cf03fe1b",
   "metadata": {},
   "outputs": [],
   "source": [
    "# User Defined Function to display descriptives of continuous variables\n",
    "def udf_cont_var(x):\n",
    "    return pd.Series([x.dtypes,x.nunique(),x.count(),x.isnull().sum(),x.mean(),x.std(),x.var(),x.min(),x.quantile(0.01),\n",
    "                     x.quantile(0.05),x.quantile(0.1),x.quantile(0.25),x.quantile(0.5),x.quantile(0.75),x.quantile(0.9),\n",
    "                     x.quantile(0.95),x.quantile(0.99),x.max()],index=['DataType','C','N','NMISS','MEAN','STD','VAR','MIN',\n",
    "                                                                      'P1','P5','P10','P25','P50','P75','P90','P95','P99',\n",
    "                                                                      'MAX'])"
   ]
  },
  {
   "cell_type": "code",
   "execution_count": 5,
   "id": "66edbbda",
   "metadata": {},
   "outputs": [],
   "source": [
    "# User Defined Function to display descriptives of categorical variables\n",
    "def udf_cat_var(x):\n",
    "    return pd.Series([x.nunique(),x.count(),x.isnull().sum(),x.value_counts().sort_values(ascending=False).index[0],\n",
    "                     x.value_counts().sort_values(ascending=False).values[0],\n",
    "                     (x.value_counts().sort_values(ascending=False).values[0]/x.shape[0])*100],\n",
    "                    index=['N','C','NMISS','MODE','FREQ','PERCENT'])"
   ]
  },
  {
   "cell_type": "code",
   "execution_count": 6,
   "id": "27609601",
   "metadata": {},
   "outputs": [],
   "source": [
    "# User Defined Function for missing value imputation\n",
    "def udf_missing_value(x,imput_type='mean'):\n",
    "    if imput_type=='mean':\n",
    "        x=x.fillna(x.mean())\n",
    "    elif imput_type=='median':\n",
    "        x=x.fillna(x.median())\n",
    "    else:\n",
    "        x=x.fillna(x.mode()[0])\n",
    "    return x"
   ]
  },
  {
   "cell_type": "code",
   "execution_count": 7,
   "id": "d64227fa",
   "metadata": {},
   "outputs": [],
   "source": [
    "# Creating dummy variables \n",
    "def udf_dummy_var(df,col_nm):\n",
    "    df=pd.concat([pd.get_dummies(df[col_nm],prefix=col_nm,drop_first=True),df],axis=1).drop(col_nm,axis=1)\n",
    "    return df"
   ]
  },
  {
   "cell_type": "code",
   "execution_count": null,
   "id": "29d7fc33",
   "metadata": {},
   "outputs": [],
   "source": []
  },
  {
   "cell_type": "code",
   "execution_count": null,
   "id": "add6ee8a",
   "metadata": {},
   "outputs": [],
   "source": []
  },
  {
   "cell_type": "markdown",
   "id": "f586998c",
   "metadata": {},
   "source": [
    "### Data Audit/Inspection"
   ]
  },
  {
   "cell_type": "code",
   "execution_count": 8,
   "id": "87347d7d",
   "metadata": {},
   "outputs": [],
   "source": [
    "# Transforming Color from nominal to ordinal\n",
    "input_data['Color_Recoded']=input_data['Color'].map({'Colorless':1,'Near Colorless':2,'Faint Yellow':3,'Light Yellow':4,'Yellow':5})"
   ]
  },
  {
   "cell_type": "code",
   "execution_count": 9,
   "id": "463cbe91",
   "metadata": {},
   "outputs": [],
   "source": [
    "# Seggregating data into continuous and categorical variables\n",
    "continuous_var=input_data.select_dtypes('float64').columns.difference(['Day','Time of Day','Color_Recoded'])\n",
    "categorical_var=['Color_Recoded','Source','Target']"
   ]
  },
  {
   "cell_type": "code",
   "execution_count": null,
   "id": "454e2cd4",
   "metadata": {},
   "outputs": [],
   "source": []
  },
  {
   "cell_type": "code",
   "execution_count": null,
   "id": "1d73e9c7",
   "metadata": {},
   "outputs": [],
   "source": []
  },
  {
   "cell_type": "markdown",
   "id": "09b2c0d6",
   "metadata": {},
   "source": [
    "#### Data Audit - Continuous Features"
   ]
  },
  {
   "cell_type": "code",
   "execution_count": 10,
   "id": "c5b0d8fc",
   "metadata": {},
   "outputs": [
    {
     "data": {
      "text/html": [
       "<div>\n",
       "<style scoped>\n",
       "    .dataframe tbody tr th:only-of-type {\n",
       "        vertical-align: middle;\n",
       "    }\n",
       "\n",
       "    .dataframe tbody tr th {\n",
       "        vertical-align: top;\n",
       "    }\n",
       "\n",
       "    .dataframe thead th {\n",
       "        text-align: right;\n",
       "    }\n",
       "</style>\n",
       "<table border=\"1\" class=\"dataframe\">\n",
       "  <thead>\n",
       "    <tr style=\"text-align: right;\">\n",
       "      <th></th>\n",
       "      <th>Air Temperature</th>\n",
       "      <th>Chloride</th>\n",
       "      <th>Chlorine</th>\n",
       "      <th>Conductivity</th>\n",
       "      <th>Copper</th>\n",
       "      <th>Fluoride</th>\n",
       "      <th>Iron</th>\n",
       "      <th>Lead</th>\n",
       "      <th>Manganese</th>\n",
       "      <th>Nitrate</th>\n",
       "      <th>Odor</th>\n",
       "      <th>Sulfate</th>\n",
       "      <th>Total Dissolved Solids</th>\n",
       "      <th>Turbidity</th>\n",
       "      <th>Water Temperature</th>\n",
       "      <th>Zinc</th>\n",
       "      <th>pH</th>\n",
       "    </tr>\n",
       "  </thead>\n",
       "  <tbody>\n",
       "    <tr>\n",
       "      <th>0</th>\n",
       "      <td>43.493324</td>\n",
       "      <td>122.799772</td>\n",
       "      <td>3.708178</td>\n",
       "      <td>471.683357</td>\n",
       "      <td>0.144599</td>\n",
       "      <td>0.607283</td>\n",
       "      <td>0.000083</td>\n",
       "      <td>3.713298e-52</td>\n",
       "      <td>2.269945e-15</td>\n",
       "      <td>8.605777</td>\n",
       "      <td>1.626212</td>\n",
       "      <td>87.266538</td>\n",
       "      <td>332.118789</td>\n",
       "      <td>0.022683</td>\n",
       "      <td>NaN</td>\n",
       "      <td>3.434827</td>\n",
       "      <td>8.332988</td>\n",
       "    </tr>\n",
       "    <tr>\n",
       "      <th>1</th>\n",
       "      <td>71.220586</td>\n",
       "      <td>227.029851</td>\n",
       "      <td>3.292038</td>\n",
       "      <td>432.844908</td>\n",
       "      <td>0.437835</td>\n",
       "      <td>0.622874</td>\n",
       "      <td>0.000081</td>\n",
       "      <td>7.849262e-94</td>\n",
       "      <td>8.024076e-07</td>\n",
       "      <td>3.734167</td>\n",
       "      <td>1.686049</td>\n",
       "      <td>144.010981</td>\n",
       "      <td>284.641984</td>\n",
       "      <td>0.019007</td>\n",
       "      <td>15.348981</td>\n",
       "      <td>1.245317</td>\n",
       "      <td>6.917863</td>\n",
       "    </tr>\n",
       "    <tr>\n",
       "      <th>2</th>\n",
       "      <td>44.891330</td>\n",
       "      <td>230.995630</td>\n",
       "      <td>3.560224</td>\n",
       "      <td>990.201209</td>\n",
       "      <td>0.431588</td>\n",
       "      <td>0.423423</td>\n",
       "      <td>0.020106</td>\n",
       "      <td>5.286616e-76</td>\n",
       "      <td>7.007989e-02</td>\n",
       "      <td>3.816994</td>\n",
       "      <td>3.414619</td>\n",
       "      <td>275.702107</td>\n",
       "      <td>570.054094</td>\n",
       "      <td>0.319956</td>\n",
       "      <td>11.643467</td>\n",
       "      <td>0.528280</td>\n",
       "      <td>5.443762</td>\n",
       "    </tr>\n",
       "    <tr>\n",
       "      <th>3</th>\n",
       "      <td>60.843233</td>\n",
       "      <td>178.129940</td>\n",
       "      <td>3.516907</td>\n",
       "      <td>237.028467</td>\n",
       "      <td>0.239451</td>\n",
       "      <td>0.208454</td>\n",
       "      <td>0.143988</td>\n",
       "      <td>3.997118e-176</td>\n",
       "      <td>2.468295e-02</td>\n",
       "      <td>8.224944</td>\n",
       "      <td>NaN</td>\n",
       "      <td>147.163233</td>\n",
       "      <td>100.043838</td>\n",
       "      <td>0.166319</td>\n",
       "      <td>10.092392</td>\n",
       "      <td>4.027879</td>\n",
       "      <td>7.955339</td>\n",
       "    </tr>\n",
       "    <tr>\n",
       "      <th>4</th>\n",
       "      <td>69.336671</td>\n",
       "      <td>186.540872</td>\n",
       "      <td>3.177849</td>\n",
       "      <td>385.025855</td>\n",
       "      <td>0.616574</td>\n",
       "      <td>0.222912</td>\n",
       "      <td>0.002167</td>\n",
       "      <td>4.171069e-132</td>\n",
       "      <td>3.296139e-03</td>\n",
       "      <td>9.925788</td>\n",
       "      <td>0.795310</td>\n",
       "      <td>175.275175</td>\n",
       "      <td>168.075545</td>\n",
       "      <td>0.004867</td>\n",
       "      <td>15.249416</td>\n",
       "      <td>3.807511</td>\n",
       "      <td>8.091909</td>\n",
       "    </tr>\n",
       "  </tbody>\n",
       "</table>\n",
       "</div>"
      ],
      "text/plain": [
       "   Air Temperature    Chloride  Chlorine  Conductivity    Copper  Fluoride  \\\n",
       "0        43.493324  122.799772  3.708178    471.683357  0.144599  0.607283   \n",
       "1        71.220586  227.029851  3.292038    432.844908  0.437835  0.622874   \n",
       "2        44.891330  230.995630  3.560224    990.201209  0.431588  0.423423   \n",
       "3        60.843233  178.129940  3.516907    237.028467  0.239451  0.208454   \n",
       "4        69.336671  186.540872  3.177849    385.025855  0.616574  0.222912   \n",
       "\n",
       "       Iron           Lead     Manganese   Nitrate      Odor     Sulfate  \\\n",
       "0  0.000083   3.713298e-52  2.269945e-15  8.605777  1.626212   87.266538   \n",
       "1  0.000081   7.849262e-94  8.024076e-07  3.734167  1.686049  144.010981   \n",
       "2  0.020106   5.286616e-76  7.007989e-02  3.816994  3.414619  275.702107   \n",
       "3  0.143988  3.997118e-176  2.468295e-02  8.224944       NaN  147.163233   \n",
       "4  0.002167  4.171069e-132  3.296139e-03  9.925788  0.795310  175.275175   \n",
       "\n",
       "   Total Dissolved Solids  Turbidity  Water Temperature      Zinc        pH  \n",
       "0              332.118789   0.022683                NaN  3.434827  8.332988  \n",
       "1              284.641984   0.019007          15.348981  1.245317  6.917863  \n",
       "2              570.054094   0.319956          11.643467  0.528280  5.443762  \n",
       "3              100.043838   0.166319          10.092392  4.027879  7.955339  \n",
       "4              168.075545   0.004867          15.249416  3.807511  8.091909  "
      ]
     },
     "execution_count": 10,
     "metadata": {},
     "output_type": "execute_result"
    }
   ],
   "source": [
    "continuous_data=input_data[continuous_var]\n",
    "\n",
    "continuous_data.head()"
   ]
  },
  {
   "cell_type": "code",
   "execution_count": 11,
   "id": "89558c7e",
   "metadata": {},
   "outputs": [
    {
     "data": {
      "text/html": [
       "<div>\n",
       "<style scoped>\n",
       "    .dataframe tbody tr th:only-of-type {\n",
       "        vertical-align: middle;\n",
       "    }\n",
       "\n",
       "    .dataframe tbody tr th {\n",
       "        vertical-align: top;\n",
       "    }\n",
       "\n",
       "    .dataframe thead th {\n",
       "        text-align: right;\n",
       "    }\n",
       "</style>\n",
       "<table border=\"1\" class=\"dataframe\">\n",
       "  <thead>\n",
       "    <tr style=\"text-align: right;\">\n",
       "      <th></th>\n",
       "      <th>Air Temperature</th>\n",
       "      <th>Chloride</th>\n",
       "      <th>Chlorine</th>\n",
       "      <th>Conductivity</th>\n",
       "      <th>Copper</th>\n",
       "      <th>Fluoride</th>\n",
       "      <th>Iron</th>\n",
       "      <th>Lead</th>\n",
       "      <th>Manganese</th>\n",
       "      <th>Nitrate</th>\n",
       "      <th>Odor</th>\n",
       "      <th>Sulfate</th>\n",
       "      <th>Total Dissolved Solids</th>\n",
       "      <th>Turbidity</th>\n",
       "      <th>Water Temperature</th>\n",
       "      <th>Zinc</th>\n",
       "      <th>pH</th>\n",
       "    </tr>\n",
       "  </thead>\n",
       "  <tbody>\n",
       "    <tr>\n",
       "      <th>DataType</th>\n",
       "      <td>float64</td>\n",
       "      <td>float64</td>\n",
       "      <td>float64</td>\n",
       "      <td>float64</td>\n",
       "      <td>float64</td>\n",
       "      <td>float64</td>\n",
       "      <td>float64</td>\n",
       "      <td>float64</td>\n",
       "      <td>float64</td>\n",
       "      <td>float64</td>\n",
       "      <td>float64</td>\n",
       "      <td>float64</td>\n",
       "      <td>float64</td>\n",
       "      <td>float64</td>\n",
       "      <td>float64</td>\n",
       "      <td>float64</td>\n",
       "      <td>float64</td>\n",
       "    </tr>\n",
       "    <tr>\n",
       "      <th>C</th>\n",
       "      <td>5684019</td>\n",
       "      <td>5549789</td>\n",
       "      <td>5658153</td>\n",
       "      <td>5560632</td>\n",
       "      <td>5528120</td>\n",
       "      <td>5537536</td>\n",
       "      <td>5674876</td>\n",
       "      <td>5542383</td>\n",
       "      <td>5610685</td>\n",
       "      <td>5614445</td>\n",
       "      <td>5547049</td>\n",
       "      <td>5529949</td>\n",
       "      <td>5709787</td>\n",
       "      <td>5665514</td>\n",
       "      <td>5556716</td>\n",
       "      <td>5567922</td>\n",
       "      <td>5604784</td>\n",
       "    </tr>\n",
       "    <tr>\n",
       "      <th>N</th>\n",
       "      <td>5927114</td>\n",
       "      <td>5781311</td>\n",
       "      <td>5899017</td>\n",
       "      <td>5792981</td>\n",
       "      <td>5757440</td>\n",
       "      <td>5767686</td>\n",
       "      <td>5917089</td>\n",
       "      <td>5929933</td>\n",
       "      <td>5847259</td>\n",
       "      <td>5851117</td>\n",
       "      <td>5777951</td>\n",
       "      <td>5759424</td>\n",
       "      <td>5955172</td>\n",
       "      <td>5907027</td>\n",
       "      <td>5788609</td>\n",
       "      <td>5800716</td>\n",
       "      <td>5840788</td>\n",
       "    </tr>\n",
       "    <tr>\n",
       "      <th>NMISS</th>\n",
       "      <td>29728</td>\n",
       "      <td>175531</td>\n",
       "      <td>57825</td>\n",
       "      <td>163861</td>\n",
       "      <td>199402</td>\n",
       "      <td>189156</td>\n",
       "      <td>39753</td>\n",
       "      <td>26909</td>\n",
       "      <td>109583</td>\n",
       "      <td>105725</td>\n",
       "      <td>178891</td>\n",
       "      <td>197418</td>\n",
       "      <td>1670</td>\n",
       "      <td>49815</td>\n",
       "      <td>168233</td>\n",
       "      <td>156126</td>\n",
       "      <td>116054</td>\n",
       "    </tr>\n",
       "    <tr>\n",
       "      <th>MEAN</th>\n",
       "      <td>60.003239</td>\n",
       "      <td>184.296981</td>\n",
       "      <td>3.255738</td>\n",
       "      <td>424.997435</td>\n",
       "      <td>0.516122</td>\n",
       "      <td>0.964431</td>\n",
       "      <td>0.127903</td>\n",
       "      <td>0.001498</td>\n",
       "      <td>0.10928</td>\n",
       "      <td>6.16997</td>\n",
       "      <td>1.803459</td>\n",
       "      <td>146.076443</td>\n",
       "      <td>267.145372</td>\n",
       "      <td>0.521509</td>\n",
       "      <td>19.129818</td>\n",
       "      <td>1.550255</td>\n",
       "      <td>7.445373</td>\n",
       "    </tr>\n",
       "    <tr>\n",
       "      <th>STD</th>\n",
       "      <td>18.099774</td>\n",
       "      <td>68.428284</td>\n",
       "      <td>0.732844</td>\n",
       "      <td>189.993679</td>\n",
       "      <td>0.596553</td>\n",
       "      <td>0.824787</td>\n",
       "      <td>0.479991</td>\n",
       "      <td>0.032506</td>\n",
       "      <td>0.476183</td>\n",
       "      <td>3.256667</td>\n",
       "      <td>1.069586</td>\n",
       "      <td>68.798444</td>\n",
       "      <td>155.858569</td>\n",
       "      <td>0.925881</td>\n",
       "      <td>11.366228</td>\n",
       "      <td>1.546368</td>\n",
       "      <td>0.888166</td>\n",
       "    </tr>\n",
       "    <tr>\n",
       "      <th>VAR</th>\n",
       "      <td>327.601833</td>\n",
       "      <td>4682.429986</td>\n",
       "      <td>0.537061</td>\n",
       "      <td>36097.598095</td>\n",
       "      <td>0.355876</td>\n",
       "      <td>0.680274</td>\n",
       "      <td>0.230392</td>\n",
       "      <td>0.001057</td>\n",
       "      <td>0.22675</td>\n",
       "      <td>10.605878</td>\n",
       "      <td>1.144013</td>\n",
       "      <td>4733.225956</td>\n",
       "      <td>24291.893617</td>\n",
       "      <td>0.857255</td>\n",
       "      <td>129.191144</td>\n",
       "      <td>2.391253</td>\n",
       "      <td>0.78884</td>\n",
       "    </tr>\n",
       "    <tr>\n",
       "      <th>MIN</th>\n",
       "      <td>-33.870915</td>\n",
       "      <td>23.639187</td>\n",
       "      <td>0.901992</td>\n",
       "      <td>10.599984</td>\n",
       "      <td>0.0</td>\n",
       "      <td>0.000005</td>\n",
       "      <td>0.0</td>\n",
       "      <td>0.0</td>\n",
       "      <td>0.0</td>\n",
       "      <td>0.286173</td>\n",
       "      <td>0.011</td>\n",
       "      <td>11.940727</td>\n",
       "      <td>0.010489</td>\n",
       "      <td>0.0</td>\n",
       "      <td>0.666194</td>\n",
       "      <td>0.0</td>\n",
       "      <td>1.057113</td>\n",
       "    </tr>\n",
       "    <tr>\n",
       "      <th>P1</th>\n",
       "      <td>17.881014</td>\n",
       "      <td>73.297511</td>\n",
       "      <td>1.835934</td>\n",
       "      <td>108.752488</td>\n",
       "      <td>0.002133</td>\n",
       "      <td>0.024331</td>\n",
       "      <td>0.0</td>\n",
       "      <td>0.0</td>\n",
       "      <td>0.0</td>\n",
       "      <td>1.640633</td>\n",
       "      <td>0.046324</td>\n",
       "      <td>43.463405</td>\n",
       "      <td>5.318116</td>\n",
       "      <td>0.00002</td>\n",
       "      <td>4.572306</td>\n",
       "      <td>0.009386</td>\n",
       "      <td>5.018298</td>\n",
       "    </tr>\n",
       "    <tr>\n",
       "      <th>P5</th>\n",
       "      <td>30.241682</td>\n",
       "      <td>95.515444</td>\n",
       "      <td>2.170449</td>\n",
       "      <td>167.568472</td>\n",
       "      <td>0.016111</td>\n",
       "      <td>0.09076</td>\n",
       "      <td>0.0</td>\n",
       "      <td>0.0</td>\n",
       "      <td>0.0</td>\n",
       "      <td>2.372033</td>\n",
       "      <td>0.187993</td>\n",
       "      <td>60.858522</td>\n",
       "      <td>26.497371</td>\n",
       "      <td>0.000867</td>\n",
       "      <td>6.65141</td>\n",
       "      <td>0.059987</td>\n",
       "      <td>5.973924</td>\n",
       "    </tr>\n",
       "    <tr>\n",
       "      <th>P10</th>\n",
       "      <td>36.81811</td>\n",
       "      <td>109.823418</td>\n",
       "      <td>2.371547</td>\n",
       "      <td>206.769141</td>\n",
       "      <td>0.038789</td>\n",
       "      <td>0.163645</td>\n",
       "      <td>0.0</td>\n",
       "      <td>0.0</td>\n",
       "      <td>0.0</td>\n",
       "      <td>2.883113</td>\n",
       "      <td>0.364174</td>\n",
       "      <td>72.773872</td>\n",
       "      <td>53.038442</td>\n",
       "      <td>0.004438</td>\n",
       "      <td>8.124006</td>\n",
       "      <td>0.135243</td>\n",
       "      <td>6.509904</td>\n",
       "    </tr>\n",
       "    <tr>\n",
       "      <th>P25</th>\n",
       "      <td>47.791197</td>\n",
       "      <td>138.134087</td>\n",
       "      <td>2.744504</td>\n",
       "      <td>286.426131</td>\n",
       "      <td>0.128863</td>\n",
       "      <td>0.37495</td>\n",
       "      <td>0.00001</td>\n",
       "      <td>0.0</td>\n",
       "      <td>0.000003</td>\n",
       "      <td>3.973078</td>\n",
       "      <td>0.892102</td>\n",
       "      <td>97.771138</td>\n",
       "      <td>132.915721</td>\n",
       "      <td>0.038724</td>\n",
       "      <td>11.348789</td>\n",
       "      <td>0.41482</td>\n",
       "      <td>6.894328</td>\n",
       "    </tr>\n",
       "    <tr>\n",
       "      <th>P50</th>\n",
       "      <td>59.996811</td>\n",
       "      <td>176.017808</td>\n",
       "      <td>3.209748</td>\n",
       "      <td>397.080817</td>\n",
       "      <td>0.347959</td>\n",
       "      <td>0.775179</td>\n",
       "      <td>0.00225</td>\n",
       "      <td>0.0</td>\n",
       "      <td>0.000648</td>\n",
       "      <td>5.604051</td>\n",
       "      <td>1.774284</td>\n",
       "      <td>134.648867</td>\n",
       "      <td>265.887962</td>\n",
       "      <td>0.209768</td>\n",
       "      <td>16.444276</td>\n",
       "      <td>1.081818</td>\n",
       "      <td>7.449564</td>\n",
       "    </tr>\n",
       "    <tr>\n",
       "      <th>P75</th>\n",
       "      <td>72.212353</td>\n",
       "      <td>217.981093</td>\n",
       "      <td>3.705217</td>\n",
       "      <td>533.348851</td>\n",
       "      <td>0.70101</td>\n",
       "      <td>1.341508</td>\n",
       "      <td>0.054553</td>\n",
       "      <td>0.0</td>\n",
       "      <td>0.016721</td>\n",
       "      <td>7.672402</td>\n",
       "      <td>2.654286</td>\n",
       "      <td>181.770336</td>\n",
       "      <td>398.495387</td>\n",
       "      <td>0.624913</td>\n",
       "      <td>23.835433</td>\n",
       "      <td>2.230841</td>\n",
       "      <td>8.014424</td>\n",
       "    </tr>\n",
       "    <tr>\n",
       "      <th>P90</th>\n",
       "      <td>83.202881</td>\n",
       "      <td>254.556344</td>\n",
       "      <td>4.111461</td>\n",
       "      <td>679.511736</td>\n",
       "      <td>1.048617</td>\n",
       "      <td>1.891021</td>\n",
       "      <td>0.24612</td>\n",
       "      <td>0.0</td>\n",
       "      <td>0.155068</td>\n",
       "      <td>9.618919</td>\n",
       "      <td>3.183389</td>\n",
       "      <td>228.339789</td>\n",
       "      <td>478.21753</td>\n",
       "      <td>1.171903</td>\n",
       "      <td>33.273288</td>\n",
       "      <td>3.621347</td>\n",
       "      <td>8.424974</td>\n",
       "    </tr>\n",
       "    <tr>\n",
       "      <th>P95</th>\n",
       "      <td>89.781064</td>\n",
       "      <td>306.687803</td>\n",
       "      <td>4.46858</td>\n",
       "      <td>777.914193</td>\n",
       "      <td>1.616019</td>\n",
       "      <td>2.421353</td>\n",
       "      <td>0.600277</td>\n",
       "      <td>0.000001</td>\n",
       "      <td>0.57811</td>\n",
       "      <td>11.629383</td>\n",
       "      <td>3.656533</td>\n",
       "      <td>255.755446</td>\n",
       "      <td>511.651993</td>\n",
       "      <td>2.137814</td>\n",
       "      <td>40.637832</td>\n",
       "      <td>4.48508</td>\n",
       "      <td>8.826594</td>\n",
       "    </tr>\n",
       "    <tr>\n",
       "      <th>P99</th>\n",
       "      <td>102.095916</td>\n",
       "      <td>422.588297</td>\n",
       "      <td>5.453957</td>\n",
       "      <td>985.73909</td>\n",
       "      <td>2.984804</td>\n",
       "      <td>4.043871</td>\n",
       "      <td>2.378434</td>\n",
       "      <td>0.004335</td>\n",
       "      <td>2.338963</td>\n",
       "      <td>18.05118</td>\n",
       "      <td>4.044267</td>\n",
       "      <td>381.159218</td>\n",
       "      <td>566.207656</td>\n",
       "      <td>4.715534</td>\n",
       "      <td>59.075623</td>\n",
       "      <td>6.952623</td>\n",
       "      <td>9.785991</td>\n",
       "    </tr>\n",
       "    <tr>\n",
       "      <th>MAX</th>\n",
       "      <td>152.123736</td>\n",
       "      <td>1507.309881</td>\n",
       "      <td>12.56663</td>\n",
       "      <td>2271.631722</td>\n",
       "      <td>12.074816</td>\n",
       "      <td>14.646254</td>\n",
       "      <td>19.353145</td>\n",
       "      <td>5.844281</td>\n",
       "      <td>23.74086</td>\n",
       "      <td>96.390779</td>\n",
       "      <td>4.141998</td>\n",
       "      <td>1434.586543</td>\n",
       "      <td>579.799928</td>\n",
       "      <td>23.71527</td>\n",
       "      <td>297.308629</td>\n",
       "      <td>28.368672</td>\n",
       "      <td>12.910719</td>\n",
       "    </tr>\n",
       "  </tbody>\n",
       "</table>\n",
       "</div>"
      ],
      "text/plain": [
       "         Air Temperature     Chloride  Chlorine  Conductivity     Copper  \\\n",
       "DataType         float64      float64   float64       float64    float64   \n",
       "C                5684019      5549789   5658153       5560632    5528120   \n",
       "N                5927114      5781311   5899017       5792981    5757440   \n",
       "NMISS              29728       175531     57825        163861     199402   \n",
       "MEAN           60.003239   184.296981  3.255738    424.997435   0.516122   \n",
       "STD            18.099774    68.428284  0.732844    189.993679   0.596553   \n",
       "VAR           327.601833  4682.429986  0.537061  36097.598095   0.355876   \n",
       "MIN           -33.870915    23.639187  0.901992     10.599984        0.0   \n",
       "P1             17.881014    73.297511  1.835934    108.752488   0.002133   \n",
       "P5             30.241682    95.515444  2.170449    167.568472   0.016111   \n",
       "P10             36.81811   109.823418  2.371547    206.769141   0.038789   \n",
       "P25            47.791197   138.134087  2.744504    286.426131   0.128863   \n",
       "P50            59.996811   176.017808  3.209748    397.080817   0.347959   \n",
       "P75            72.212353   217.981093  3.705217    533.348851    0.70101   \n",
       "P90            83.202881   254.556344  4.111461    679.511736   1.048617   \n",
       "P95            89.781064   306.687803   4.46858    777.914193   1.616019   \n",
       "P99           102.095916   422.588297  5.453957     985.73909   2.984804   \n",
       "MAX           152.123736  1507.309881  12.56663   2271.631722  12.074816   \n",
       "\n",
       "           Fluoride       Iron      Lead Manganese    Nitrate      Odor  \\\n",
       "DataType    float64    float64   float64   float64    float64   float64   \n",
       "C           5537536    5674876   5542383   5610685    5614445   5547049   \n",
       "N           5767686    5917089   5929933   5847259    5851117   5777951   \n",
       "NMISS        189156      39753     26909    109583     105725    178891   \n",
       "MEAN       0.964431   0.127903  0.001498   0.10928    6.16997  1.803459   \n",
       "STD        0.824787   0.479991  0.032506  0.476183   3.256667  1.069586   \n",
       "VAR        0.680274   0.230392  0.001057   0.22675  10.605878  1.144013   \n",
       "MIN        0.000005        0.0       0.0       0.0   0.286173     0.011   \n",
       "P1         0.024331        0.0       0.0       0.0   1.640633  0.046324   \n",
       "P5          0.09076        0.0       0.0       0.0   2.372033  0.187993   \n",
       "P10        0.163645        0.0       0.0       0.0   2.883113  0.364174   \n",
       "P25         0.37495    0.00001       0.0  0.000003   3.973078  0.892102   \n",
       "P50        0.775179    0.00225       0.0  0.000648   5.604051  1.774284   \n",
       "P75        1.341508   0.054553       0.0  0.016721   7.672402  2.654286   \n",
       "P90        1.891021    0.24612       0.0  0.155068   9.618919  3.183389   \n",
       "P95        2.421353   0.600277  0.000001   0.57811  11.629383  3.656533   \n",
       "P99        4.043871   2.378434  0.004335  2.338963   18.05118  4.044267   \n",
       "MAX       14.646254  19.353145  5.844281  23.74086  96.390779  4.141998   \n",
       "\n",
       "              Sulfate Total Dissolved Solids Turbidity Water Temperature  \\\n",
       "DataType      float64                float64   float64           float64   \n",
       "C             5529949                5709787   5665514           5556716   \n",
       "N             5759424                5955172   5907027           5788609   \n",
       "NMISS          197418                   1670     49815            168233   \n",
       "MEAN       146.076443             267.145372  0.521509         19.129818   \n",
       "STD         68.798444             155.858569  0.925881         11.366228   \n",
       "VAR       4733.225956           24291.893617  0.857255        129.191144   \n",
       "MIN         11.940727               0.010489       0.0          0.666194   \n",
       "P1          43.463405               5.318116   0.00002          4.572306   \n",
       "P5          60.858522              26.497371  0.000867           6.65141   \n",
       "P10         72.773872              53.038442  0.004438          8.124006   \n",
       "P25         97.771138             132.915721  0.038724         11.348789   \n",
       "P50        134.648867             265.887962  0.209768         16.444276   \n",
       "P75        181.770336             398.495387  0.624913         23.835433   \n",
       "P90        228.339789              478.21753  1.171903         33.273288   \n",
       "P95        255.755446             511.651993  2.137814         40.637832   \n",
       "P99        381.159218             566.207656  4.715534         59.075623   \n",
       "MAX       1434.586543             579.799928  23.71527        297.308629   \n",
       "\n",
       "               Zinc         pH  \n",
       "DataType    float64    float64  \n",
       "C           5567922    5604784  \n",
       "N           5800716    5840788  \n",
       "NMISS        156126     116054  \n",
       "MEAN       1.550255   7.445373  \n",
       "STD        1.546368   0.888166  \n",
       "VAR        2.391253    0.78884  \n",
       "MIN             0.0   1.057113  \n",
       "P1         0.009386   5.018298  \n",
       "P5         0.059987   5.973924  \n",
       "P10        0.135243   6.509904  \n",
       "P25         0.41482   6.894328  \n",
       "P50        1.081818   7.449564  \n",
       "P75        2.230841   8.014424  \n",
       "P90        3.621347   8.424974  \n",
       "P95         4.48508   8.826594  \n",
       "P99        6.952623   9.785991  \n",
       "MAX       28.368672  12.910719  "
      ]
     },
     "execution_count": 11,
     "metadata": {},
     "output_type": "execute_result"
    }
   ],
   "source": [
    "# Descriptives of the continuous variables in the input dataset\n",
    "op_stats=pandas.DataFrame()\n",
    "for col_nm in continuous_data.columns:\n",
    "    ip_stats=continuous_data[[col_nm]].apply(lambda x:udf_cont_var(x))\n",
    "    op_stats=pd.concat([op_stats,ip_stats],axis=1)\n",
    "op_stats"
   ]
  },
  {
   "cell_type": "code",
   "execution_count": 12,
   "id": "90852580",
   "metadata": {},
   "outputs": [],
   "source": [
    "# Outliers capping at 1%/99%\n",
    "continuous_data=continuous_data.apply(lambda x:x.clip(lower=x.quantile(0.01),upper=x.quantile(0.99)))"
   ]
  },
  {
   "cell_type": "code",
   "execution_count": 13,
   "id": "ef1765a4",
   "metadata": {},
   "outputs": [],
   "source": [
    "# Imputing null values with mean\n",
    "# continuous_data=continuous_data.apply(lambda x:udf_missing_value(x,'mean'))"
   ]
  },
  {
   "cell_type": "code",
   "execution_count": 14,
   "id": "9855cd97",
   "metadata": {},
   "outputs": [],
   "source": [
    "# Imputing null values with -1\n",
    "continuous_data.fillna(-1,inplace=True)"
   ]
  },
  {
   "cell_type": "code",
   "execution_count": 15,
   "id": "07ba0431",
   "metadata": {},
   "outputs": [],
   "source": [
    "# Exclude feature 'Lead' as 90% values are 0\n",
    "continuous_data=continuous_data.drop('Lead',axis=1)"
   ]
  },
  {
   "cell_type": "code",
   "execution_count": 16,
   "id": "74f79905",
   "metadata": {},
   "outputs": [],
   "source": [
    "# Converting the data into Standard Normal Distribution\n",
    "# sc=StandardScaler()\n",
    "# sc=sc.fit(continuous_data)\n",
    "# continuous_data_sc=pd.DataFrame(sc.transform(continuous_data),columns=continuous_data.columns)"
   ]
  },
  {
   "cell_type": "code",
   "execution_count": null,
   "id": "f85885e7",
   "metadata": {},
   "outputs": [],
   "source": []
  },
  {
   "cell_type": "code",
   "execution_count": null,
   "id": "45e18dbe",
   "metadata": {},
   "outputs": [],
   "source": []
  },
  {
   "cell_type": "markdown",
   "id": "d448216c",
   "metadata": {},
   "source": [
    "#### Data Audit - Categorical Features"
   ]
  },
  {
   "cell_type": "code",
   "execution_count": 17,
   "id": "6dfb6284",
   "metadata": {},
   "outputs": [
    {
     "data": {
      "text/html": [
       "<div>\n",
       "<style scoped>\n",
       "    .dataframe tbody tr th:only-of-type {\n",
       "        vertical-align: middle;\n",
       "    }\n",
       "\n",
       "    .dataframe tbody tr th {\n",
       "        vertical-align: top;\n",
       "    }\n",
       "\n",
       "    .dataframe thead th {\n",
       "        text-align: right;\n",
       "    }\n",
       "</style>\n",
       "<table border=\"1\" class=\"dataframe\">\n",
       "  <thead>\n",
       "    <tr style=\"text-align: right;\">\n",
       "      <th></th>\n",
       "      <th>Color_Recoded</th>\n",
       "      <th>Source</th>\n",
       "      <th>Target</th>\n",
       "    </tr>\n",
       "  </thead>\n",
       "  <tbody>\n",
       "    <tr>\n",
       "      <th>0</th>\n",
       "      <td>1.0</td>\n",
       "      <td>NaN</td>\n",
       "      <td>0</td>\n",
       "    </tr>\n",
       "    <tr>\n",
       "      <th>1</th>\n",
       "      <td>3.0</td>\n",
       "      <td>Lake</td>\n",
       "      <td>0</td>\n",
       "    </tr>\n",
       "    <tr>\n",
       "      <th>2</th>\n",
       "      <td>4.0</td>\n",
       "      <td>River</td>\n",
       "      <td>0</td>\n",
       "    </tr>\n",
       "    <tr>\n",
       "      <th>3</th>\n",
       "      <td>2.0</td>\n",
       "      <td>Ground</td>\n",
       "      <td>0</td>\n",
       "    </tr>\n",
       "    <tr>\n",
       "      <th>4</th>\n",
       "      <td>4.0</td>\n",
       "      <td>Spring</td>\n",
       "      <td>0</td>\n",
       "    </tr>\n",
       "  </tbody>\n",
       "</table>\n",
       "</div>"
      ],
      "text/plain": [
       "   Color_Recoded  Source  Target\n",
       "0            1.0     NaN       0\n",
       "1            3.0    Lake       0\n",
       "2            4.0   River       0\n",
       "3            2.0  Ground       0\n",
       "4            4.0  Spring       0"
      ]
     },
     "execution_count": 17,
     "metadata": {},
     "output_type": "execute_result"
    }
   ],
   "source": [
    "categorical_data=input_data[categorical_var]\n",
    "\n",
    "categorical_data.head()"
   ]
  },
  {
   "cell_type": "code",
   "execution_count": 18,
   "id": "a6971896",
   "metadata": {},
   "outputs": [
    {
     "data": {
      "text/html": [
       "<div>\n",
       "<style scoped>\n",
       "    .dataframe tbody tr th:only-of-type {\n",
       "        vertical-align: middle;\n",
       "    }\n",
       "\n",
       "    .dataframe tbody tr th {\n",
       "        vertical-align: top;\n",
       "    }\n",
       "\n",
       "    .dataframe thead th {\n",
       "        text-align: right;\n",
       "    }\n",
       "</style>\n",
       "<table border=\"1\" class=\"dataframe\">\n",
       "  <thead>\n",
       "    <tr style=\"text-align: right;\">\n",
       "      <th></th>\n",
       "      <th>Color_Recoded</th>\n",
       "      <th>Source</th>\n",
       "      <th>Target</th>\n",
       "    </tr>\n",
       "  </thead>\n",
       "  <tbody>\n",
       "    <tr>\n",
       "      <th>N</th>\n",
       "      <td>5.000000e+00</td>\n",
       "      <td>8</td>\n",
       "      <td>2.000000e+00</td>\n",
       "    </tr>\n",
       "    <tr>\n",
       "      <th>C</th>\n",
       "      <td>5.951103e+06</td>\n",
       "      <td>5868580</td>\n",
       "      <td>5.956842e+06</td>\n",
       "    </tr>\n",
       "    <tr>\n",
       "      <th>NMISS</th>\n",
       "      <td>5.739000e+03</td>\n",
       "      <td>88262</td>\n",
       "      <td>0.000000e+00</td>\n",
       "    </tr>\n",
       "    <tr>\n",
       "      <th>MODE</th>\n",
       "      <td>5.000000e+00</td>\n",
       "      <td>Lake</td>\n",
       "      <td>1.000000e+00</td>\n",
       "    </tr>\n",
       "    <tr>\n",
       "      <th>FREQ</th>\n",
       "      <td>1.787911e+06</td>\n",
       "      <td>734502</td>\n",
       "      <td>4.151590e+06</td>\n",
       "    </tr>\n",
       "    <tr>\n",
       "      <th>PERCENT</th>\n",
       "      <td>3.001441e+01</td>\n",
       "      <td>12.330393</td>\n",
       "      <td>6.969448e+01</td>\n",
       "    </tr>\n",
       "  </tbody>\n",
       "</table>\n",
       "</div>"
      ],
      "text/plain": [
       "         Color_Recoded     Source        Target\n",
       "N         5.000000e+00          8  2.000000e+00\n",
       "C         5.951103e+06    5868580  5.956842e+06\n",
       "NMISS     5.739000e+03      88262  0.000000e+00\n",
       "MODE      5.000000e+00       Lake  1.000000e+00\n",
       "FREQ      1.787911e+06     734502  4.151590e+06\n",
       "PERCENT   3.001441e+01  12.330393  6.969448e+01"
      ]
     },
     "execution_count": 18,
     "metadata": {},
     "output_type": "execute_result"
    }
   ],
   "source": [
    "# Descriptives of the categorical variables in the input dataset\n",
    "cat_car_stats=pd.concat([pandas.DataFrame(categorical_data['Color_Recoded']).apply(lambda x:udf_cat_var(x)),\n",
    "pandas.DataFrame(categorical_data['Source']).apply(lambda x:udf_cat_var(x)),\n",
    "pandas.DataFrame(categorical_data['Target']).apply(lambda x:udf_cat_var(x))],axis=1)\n",
    "cat_car_stats.columns=['Color_Recoded','Source','Target']\n",
    "cat_car_stats.index=['N','C','NMISS','MODE','FREQ','PERCENT']\n",
    "cat_car_stats"
   ]
  },
  {
   "cell_type": "code",
   "execution_count": 19,
   "id": "bc68e5bb",
   "metadata": {},
   "outputs": [],
   "source": [
    "# Imputing missing values with mode\n",
    "categorical_data=categorical_data.apply(lambda x:udf_missing_value(x,'mode'))"
   ]
  },
  {
   "cell_type": "code",
   "execution_count": 20,
   "id": "30a13c3c",
   "metadata": {},
   "outputs": [],
   "source": [
    "# Transforming categorical data 'Source' into numeric using one-hot encoding\n",
    "categorical_data['Source']=categorical_data['Source'].astype('category')\n",
    "categorical_data=udf_dummy_var(categorical_data,'Source')"
   ]
  },
  {
   "cell_type": "code",
   "execution_count": 21,
   "id": "453953a0",
   "metadata": {},
   "outputs": [],
   "source": [
    "data_to_analyse=pd.concat([continuous_data,categorical_data],axis=1)"
   ]
  },
  {
   "cell_type": "code",
   "execution_count": 23,
   "id": "6618ad3d",
   "metadata": {},
   "outputs": [],
   "source": [
    "del continuous_data\n",
    "del categorical_data\n",
    "del input_data"
   ]
  },
  {
   "cell_type": "code",
   "execution_count": null,
   "id": "ccfd7003",
   "metadata": {},
   "outputs": [],
   "source": []
  },
  {
   "cell_type": "code",
   "execution_count": null,
   "id": "76b4f3bd",
   "metadata": {},
   "outputs": [],
   "source": []
  },
  {
   "cell_type": "markdown",
   "id": "d8683f18",
   "metadata": {},
   "source": [
    "### Feature Engineering"
   ]
  },
  {
   "cell_type": "code",
   "execution_count": 24,
   "id": "2b6ed9c5",
   "metadata": {},
   "outputs": [
    {
     "name": "stdout",
     "output_type": "stream",
     "text": [
      "0    0.696945\n",
      "1    0.303055\n",
      "Name: Target, dtype: float64\n",
      "0    0.5\n",
      "1    0.5\n",
      "Name: Target, dtype: float64\n"
     ]
    }
   ],
   "source": [
    "sm=SMOTE(random_state=40)\n",
    "X_fet,Y_fet=sm.fit_resample(data_to_analyse[data_to_analyse.columns.difference(['Target'])],data_to_analyse['Target'])\n",
    "print(data_to_analyse['Target'].value_counts()/data_to_analyse.shape[0])\n",
    "print(Y_fet.value_counts()/Y_fet.shape[0])"
   ]
  },
  {
   "cell_type": "code",
   "execution_count": 25,
   "id": "2927cb26",
   "metadata": {},
   "outputs": [
    {
     "name": "stdout",
     "output_type": "stream",
     "text": [
      "[23:05:21] WARNING: C:/Users/Administrator/workspace/xgboost-win64_release_1.5.1/src/learner.cc:1115: Starting in XGBoost 1.3.0, the default evaluation metric used with the objective 'binary:logistic' was changed from 'error' to 'logloss'. Explicitly set eval_metric if you'd like to restore the old behavior.\n",
      "Accuracy with XGBoost is:  0.9002081130362102\n",
      "F1 score with XGBoost is:  0.9044048153050129\n"
     ]
    }
   ],
   "source": [
    "xgb_fet_red=XGBClassifier(random_state=38)\n",
    "xgb_fet_red.fit(X_fet,Y_fet)\n",
    "print('Accuracy with XGBoost is: ',accuracy_score(Y_fet,xgb_fet_red.predict(X_fet)))\n",
    "print('F1 score with XGBoost is: ',f1_score(Y_fet,xgb_fet_red.predict(X_fet)))"
   ]
  },
  {
   "cell_type": "code",
   "execution_count": 27,
   "id": "b3841c03",
   "metadata": {},
   "outputs": [
    {
     "name": "stdout",
     "output_type": "stream",
     "text": [
      "Accuracy with LightGBM is:  0.9130201922636869\n",
      "F1 score with LightGBM is:  0.918813833401812\n"
     ]
    }
   ],
   "source": [
    "lgbm_fet_red=LGBMClassifier(random_state=38)\n",
    "lgbm_fet_red.fit(X_fet,Y_fet)\n",
    "print('Accuracy with LightGBM is: ',accuracy_score(Y_fet,lgbm_fet_red.predict(X_fet)))\n",
    "print('F1 score with LightGBM is: ',f1_score(Y_fet,lgbm_fet_red.predict(X_fet)))"
   ]
  },
  {
   "cell_type": "code",
   "execution_count": 30,
   "id": "34597481",
   "metadata": {},
   "outputs": [
    {
     "name": "stdout",
     "output_type": "stream",
     "text": [
      "Accuracy with CatBoost is:  0.908282850666853\n",
      "F1 score with CatBoost is:  0.9132351232183752\n"
     ]
    }
   ],
   "source": [
    "cb_fet_red=CatBoostClassifier(random_state=38,verbose=0)\n",
    "cb_fet_red.fit(X_fet,Y_fet,early_stopping_rounds=10)\n",
    "print('Accuracy with CatBoost is: ',accuracy_score(Y_fet,cb_fet_red.predict(X_fet)))\n",
    "print('F1 score with CatBoost is: ',f1_score(Y_fet,cb_fet_red.predict(X_fet)))"
   ]
  },
  {
   "cell_type": "code",
   "execution_count": 31,
   "id": "624ce886",
   "metadata": {},
   "outputs": [],
   "source": [
    "# svm_fet_red=SVC()\n",
    "# svm_fet_red.fit(X_fet,Y_fet)\n",
    "# print(accuracy_score(Y_fet,svm_fet_red.predict(X_fet)))"
   ]
  },
  {
   "cell_type": "code",
   "execution_count": 33,
   "id": "ae64def9",
   "metadata": {},
   "outputs": [
    {
     "data": {
      "text/html": [
       "<div>\n",
       "<style scoped>\n",
       "    .dataframe tbody tr th:only-of-type {\n",
       "        vertical-align: middle;\n",
       "    }\n",
       "\n",
       "    .dataframe tbody tr th {\n",
       "        vertical-align: top;\n",
       "    }\n",
       "\n",
       "    .dataframe thead th {\n",
       "        text-align: right;\n",
       "    }\n",
       "</style>\n",
       "<table border=\"1\" class=\"dataframe\">\n",
       "  <thead>\n",
       "    <tr style=\"text-align: right;\">\n",
       "      <th></th>\n",
       "      <th>Feature</th>\n",
       "      <th>Importance</th>\n",
       "    </tr>\n",
       "  </thead>\n",
       "  <tbody>\n",
       "    <tr>\n",
       "      <th>3</th>\n",
       "      <td>Color_Recoded</td>\n",
       "      <td>403</td>\n",
       "    </tr>\n",
       "    <tr>\n",
       "      <th>8</th>\n",
       "      <td>Manganese</td>\n",
       "      <td>316</td>\n",
       "    </tr>\n",
       "    <tr>\n",
       "      <th>23</th>\n",
       "      <td>pH</td>\n",
       "      <td>311</td>\n",
       "    </tr>\n",
       "    <tr>\n",
       "      <th>5</th>\n",
       "      <td>Copper</td>\n",
       "      <td>213</td>\n",
       "    </tr>\n",
       "    <tr>\n",
       "      <th>20</th>\n",
       "      <td>Turbidity</td>\n",
       "      <td>200</td>\n",
       "    </tr>\n",
       "    <tr>\n",
       "      <th>7</th>\n",
       "      <td>Iron</td>\n",
       "      <td>199</td>\n",
       "    </tr>\n",
       "    <tr>\n",
       "      <th>10</th>\n",
       "      <td>Odor</td>\n",
       "      <td>188</td>\n",
       "    </tr>\n",
       "    <tr>\n",
       "      <th>6</th>\n",
       "      <td>Fluoride</td>\n",
       "      <td>168</td>\n",
       "    </tr>\n",
       "    <tr>\n",
       "      <th>9</th>\n",
       "      <td>Nitrate</td>\n",
       "      <td>141</td>\n",
       "    </tr>\n",
       "    <tr>\n",
       "      <th>2</th>\n",
       "      <td>Chlorine</td>\n",
       "      <td>139</td>\n",
       "    </tr>\n",
       "    <tr>\n",
       "      <th>1</th>\n",
       "      <td>Chloride</td>\n",
       "      <td>132</td>\n",
       "    </tr>\n",
       "    <tr>\n",
       "      <th>22</th>\n",
       "      <td>Zinc</td>\n",
       "      <td>119</td>\n",
       "    </tr>\n",
       "    <tr>\n",
       "      <th>19</th>\n",
       "      <td>Total Dissolved Solids</td>\n",
       "      <td>93</td>\n",
       "    </tr>\n",
       "    <tr>\n",
       "      <th>18</th>\n",
       "      <td>Sulfate</td>\n",
       "      <td>93</td>\n",
       "    </tr>\n",
       "    <tr>\n",
       "      <th>16</th>\n",
       "      <td>Source_Stream</td>\n",
       "      <td>38</td>\n",
       "    </tr>\n",
       "    <tr>\n",
       "      <th>13</th>\n",
       "      <td>Source_Reservoir</td>\n",
       "      <td>36</td>\n",
       "    </tr>\n",
       "    <tr>\n",
       "      <th>14</th>\n",
       "      <td>Source_River</td>\n",
       "      <td>36</td>\n",
       "    </tr>\n",
       "    <tr>\n",
       "      <th>15</th>\n",
       "      <td>Source_Spring</td>\n",
       "      <td>36</td>\n",
       "    </tr>\n",
       "    <tr>\n",
       "      <th>17</th>\n",
       "      <td>Source_Well</td>\n",
       "      <td>36</td>\n",
       "    </tr>\n",
       "    <tr>\n",
       "      <th>12</th>\n",
       "      <td>Source_Lake</td>\n",
       "      <td>35</td>\n",
       "    </tr>\n",
       "    <tr>\n",
       "      <th>11</th>\n",
       "      <td>Source_Ground</td>\n",
       "      <td>35</td>\n",
       "    </tr>\n",
       "    <tr>\n",
       "      <th>21</th>\n",
       "      <td>Water Temperature</td>\n",
       "      <td>30</td>\n",
       "    </tr>\n",
       "    <tr>\n",
       "      <th>0</th>\n",
       "      <td>Air Temperature</td>\n",
       "      <td>3</td>\n",
       "    </tr>\n",
       "    <tr>\n",
       "      <th>4</th>\n",
       "      <td>Conductivity</td>\n",
       "      <td>0</td>\n",
       "    </tr>\n",
       "  </tbody>\n",
       "</table>\n",
       "</div>"
      ],
      "text/plain": [
       "                   Feature  Importance\n",
       "3            Color_Recoded         403\n",
       "8                Manganese         316\n",
       "23                      pH         311\n",
       "5                   Copper         213\n",
       "20               Turbidity         200\n",
       "7                     Iron         199\n",
       "10                    Odor         188\n",
       "6                 Fluoride         168\n",
       "9                  Nitrate         141\n",
       "2                 Chlorine         139\n",
       "1                 Chloride         132\n",
       "22                    Zinc         119\n",
       "19  Total Dissolved Solids          93\n",
       "18                 Sulfate          93\n",
       "16           Source_Stream          38\n",
       "13        Source_Reservoir          36\n",
       "14            Source_River          36\n",
       "15           Source_Spring          36\n",
       "17             Source_Well          36\n",
       "12             Source_Lake          35\n",
       "11           Source_Ground          35\n",
       "21       Water Temperature          30\n",
       "0          Air Temperature           3\n",
       "4             Conductivity           0"
      ]
     },
     "execution_count": 33,
     "metadata": {},
     "output_type": "execute_result"
    }
   ],
   "source": [
    "# Now we will do feature engineering using LightGBM, as it yields better accuracy than XGBoost and CatBoost\n",
    "features_df=pd.concat([pd.Series(X_fet.columns),pd.Series(lgbm_fet_red.feature_importances_)],axis=1)\n",
    "features_df.columns=['Feature','Importance']\n",
    "features_df.sort_values('Importance',ascending=False)"
   ]
  },
  {
   "cell_type": "code",
   "execution_count": 34,
   "id": "35931cde",
   "metadata": {},
   "outputs": [],
   "source": [
    "final_features=list(features_df.loc[features_df['Importance']>50,'Feature'])"
   ]
  },
  {
   "cell_type": "code",
   "execution_count": 36,
   "id": "01bed660",
   "metadata": {},
   "outputs": [
    {
     "data": {
      "text/plain": [
       "14"
      ]
     },
     "execution_count": 36,
     "metadata": {},
     "output_type": "execute_result"
    }
   ],
   "source": [
    "len(final_features)"
   ]
  },
  {
   "cell_type": "code",
   "execution_count": 37,
   "id": "3f1add9a",
   "metadata": {},
   "outputs": [
    {
     "data": {
      "text/plain": [
       "['Chloride',\n",
       " 'Chlorine',\n",
       " 'Color_Recoded',\n",
       " 'Copper',\n",
       " 'Fluoride',\n",
       " 'Iron',\n",
       " 'Manganese',\n",
       " 'Nitrate',\n",
       " 'Odor',\n",
       " 'Sulfate',\n",
       " 'Total Dissolved Solids',\n",
       " 'Turbidity',\n",
       " 'Zinc',\n",
       " 'pH']"
      ]
     },
     "execution_count": 37,
     "metadata": {},
     "output_type": "execute_result"
    }
   ],
   "source": [
    "final_features"
   ]
  },
  {
   "cell_type": "code",
   "execution_count": null,
   "id": "a10abb17",
   "metadata": {},
   "outputs": [],
   "source": []
  },
  {
   "cell_type": "code",
   "execution_count": null,
   "id": "d6e3af87",
   "metadata": {},
   "outputs": [],
   "source": []
  },
  {
   "cell_type": "markdown",
   "id": "8c21dabd",
   "metadata": {},
   "source": [
    "### Train - Test Split"
   ]
  },
  {
   "cell_type": "code",
   "execution_count": 38,
   "id": "9593efa5",
   "metadata": {},
   "outputs": [],
   "source": [
    "# Classifying 75% and 25% of data for train and test \n",
    "train_X,test_X,train_Y,test_Y=train_test_split(data_to_analyse[final_features],data_to_analyse['Target'],random_state=38,test_size=0.25)"
   ]
  },
  {
   "cell_type": "code",
   "execution_count": 39,
   "id": "9e010800",
   "metadata": {},
   "outputs": [
    {
     "data": {
      "text/plain": [
       "0    3113760\n",
       "1    1353871\n",
       "Name: Target, dtype: int64"
      ]
     },
     "execution_count": 39,
     "metadata": {},
     "output_type": "execute_result"
    }
   ],
   "source": [
    "train_Y.value_counts()"
   ]
  },
  {
   "cell_type": "code",
   "execution_count": 40,
   "id": "a8c566a5",
   "metadata": {},
   "outputs": [
    {
     "data": {
      "text/plain": [
       "0    1037830\n",
       "1     451381\n",
       "Name: Target, dtype: int64"
      ]
     },
     "execution_count": 40,
     "metadata": {},
     "output_type": "execute_result"
    }
   ],
   "source": [
    "test_Y.value_counts()"
   ]
  },
  {
   "cell_type": "code",
   "execution_count": 41,
   "id": "1087164e",
   "metadata": {},
   "outputs": [],
   "source": [
    "sm_train=SMOTE(random_state=48)\n",
    "train_X_sm,train_Y_sm=sm_train.fit_resample(train_X,train_Y)"
   ]
  },
  {
   "cell_type": "code",
   "execution_count": 42,
   "id": "ea38bb17",
   "metadata": {},
   "outputs": [],
   "source": [
    "sm_test=SMOTE(random_state=48)\n",
    "test_X_sm,test_Y_sm=sm_test.fit_resample(test_X,test_Y)"
   ]
  },
  {
   "cell_type": "code",
   "execution_count": 43,
   "id": "25762c86",
   "metadata": {},
   "outputs": [
    {
     "data": {
      "text/plain": [
       "1    3113760\n",
       "0    3113760\n",
       "Name: Target, dtype: int64"
      ]
     },
     "execution_count": 43,
     "metadata": {},
     "output_type": "execute_result"
    }
   ],
   "source": [
    "train_Y_sm.value_counts()"
   ]
  },
  {
   "cell_type": "code",
   "execution_count": 44,
   "id": "7843623d",
   "metadata": {},
   "outputs": [
    {
     "data": {
      "text/plain": [
       "0    1037830\n",
       "1    1037830\n",
       "Name: Target, dtype: int64"
      ]
     },
     "execution_count": 44,
     "metadata": {},
     "output_type": "execute_result"
    }
   ],
   "source": [
    "test_Y_sm.value_counts()"
   ]
  },
  {
   "cell_type": "code",
   "execution_count": null,
   "id": "bff34dd6",
   "metadata": {},
   "outputs": [],
   "source": []
  },
  {
   "cell_type": "code",
   "execution_count": null,
   "id": "a342add6",
   "metadata": {},
   "outputs": [],
   "source": []
  },
  {
   "cell_type": "markdown",
   "id": "3cd7db4e",
   "metadata": {},
   "source": [
    "### Model Building"
   ]
  },
  {
   "cell_type": "code",
   "execution_count": 45,
   "id": "b946a9ad",
   "metadata": {},
   "outputs": [
    {
     "data": {
      "text/plain": [
       "GridSearchCV(cv=StratifiedKFold(n_splits=5, random_state=21, shuffle=True),\n",
       "             estimator=LGBMClassifier(random_state=42), n_jobs=1,\n",
       "             param_grid=[{'learning_rate': [0.01, 0.1, 1],\n",
       "                          'n_estimators': [50, 100, 150], 'subsample': [0.8]}],\n",
       "             scoring='f1_weighted')"
      ]
     },
     "execution_count": 45,
     "metadata": {},
     "output_type": "execute_result"
    }
   ],
   "source": [
    "strat_kfold = StratifiedKFold(n_splits=5, shuffle=True, random_state=21)\n",
    "param_grid=[{'n_estimators':[50,100,150],'learning_rate':[10**i for i in range(-2,1)],'subsample':[0.8]}]\n",
    "lgbm_mod_cv=GridSearchCV(LGBMClassifier(random_state=42),param_grid,cv=strat_kfold,verbose=0,n_jobs=1,scoring='f1_weighted')\n",
    "lgbm_mod_cv.fit(train_X_sm,train_Y_sm)"
   ]
  },
  {
   "cell_type": "code",
   "execution_count": 47,
   "id": "630fd689",
   "metadata": {},
   "outputs": [],
   "source": [
    "## Convert LightGBM model to daal4py ##\n",
    "lgbm_mod = lgbm_mod_cv.best_estimator_\n",
    "daal_model = d4p.get_gbt_model_from_lightgbm(lgbm_mod.booster_)"
   ]
  },
  {
   "cell_type": "code",
   "execution_count": 50,
   "id": "177e5bfc",
   "metadata": {},
   "outputs": [
    {
     "name": "stdout",
     "output_type": "stream",
     "text": [
      "              precision    recall  f1-score   support\n",
      "\n",
      "           0       0.98      0.84      0.91   3113760\n",
      "           1       0.86      0.98      0.92   3113760\n",
      "\n",
      "    accuracy                           0.91   6227520\n",
      "   macro avg       0.92      0.91      0.91   6227520\n",
      "weighted avg       0.92      0.91      0.91   6227520\n",
      "\n",
      "              precision    recall  f1-score   support\n",
      "\n",
      "           0       0.98      0.84      0.91   1037830\n",
      "           1       0.86      0.98      0.92   1037830\n",
      "\n",
      "    accuracy                           0.91   2075660\n",
      "   macro avg       0.92      0.91      0.91   2075660\n",
      "weighted avg       0.92      0.91      0.91   2075660\n",
      "\n"
     ]
    }
   ],
   "source": [
    "## Calculate predicted probabilities ##\n",
    "print(metrics.classification_report(train_Y_sm,d4p.gbt_classification_prediction(nClasses=2,\n",
    "    resultsToEvaluate=\"computeClassLabels|computeClassProbabilities\",\n",
    "    fptype='float').compute(train_X_sm, daal_model).prediction))\n",
    "print(metrics.classification_report(test_Y_sm,d4p.gbt_classification_prediction(nClasses=2,\n",
    "    resultsToEvaluate=\"computeClassLabels|computeClassProbabilities\",\n",
    "    fptype='float').compute(test_X_sm, daal_model).prediction))\n",
    "\n",
    "# train_prob = d4p.gbt_classification_prediction(nClasses=2,\n",
    "#     resultsToEvaluate=\"computeClassLabels|computeClassProbabilities\",\n",
    "#     fptype='float').compute(train_X, daal_model).probabilities\n",
    "# test_prob = d4p.gbt_classification_prediction(nClasses=2,\n",
    "#     resultsToEvaluate=\"computeClassLabels|computeClassProbabilities\",\n",
    "#     fptype='float').compute(test_X, daal_model).probabilities"
   ]
  },
  {
   "cell_type": "code",
   "execution_count": 51,
   "id": "fcff2043",
   "metadata": {},
   "outputs": [],
   "source": [
    "# Saving the machine learning model as pickle file\n",
    "pickle.dump(daal_model, open('final_model_lgbm', 'wb'))"
   ]
  },
  {
   "cell_type": "code",
   "execution_count": null,
   "id": "47970363",
   "metadata": {},
   "outputs": [],
   "source": [
    "loaded_model = pickle.load(open('final_model_lgbm', 'rb'))"
   ]
  },
  {
   "cell_type": "code",
   "execution_count": null,
   "id": "093f3ee8",
   "metadata": {},
   "outputs": [],
   "source": []
  },
  {
   "cell_type": "code",
   "execution_count": null,
   "id": "eb845c84",
   "metadata": {},
   "outputs": [],
   "source": []
  }
 ],
 "metadata": {
  "kernelspec": {
   "display_name": "Python 3 (ipykernel)",
   "language": "python",
   "name": "python3"
  },
  "language_info": {
   "codemirror_mode": {
    "name": "ipython",
    "version": 3
   },
   "file_extension": ".py",
   "mimetype": "text/x-python",
   "name": "python",
   "nbconvert_exporter": "python",
   "pygments_lexer": "ipython3",
   "version": "3.9.7"
  }
 },
 "nbformat": 4,
 "nbformat_minor": 5
}
